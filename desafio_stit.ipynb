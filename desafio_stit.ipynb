{
 "cells": [
  {
   "cell_type": "markdown",
   "id": "ba9160a6",
   "metadata": {},
   "source": [
    "**Imports**"
   ]
  },
  {
   "cell_type": "code",
   "execution_count": 51,
   "id": "ab6c595e",
   "metadata": {},
   "outputs": [
    {
     "name": "stdout",
     "output_type": "stream",
     "text": [
      "Defaulting to user installation because normal site-packages is not writeable\n",
      "Collecting pyarrow\n",
      "  Downloading pyarrow-11.0.0-cp310-cp310-manylinux_2_17_x86_64.manylinux2014_x86_64.whl (34.9 MB)\n",
      "\u001b[2K     \u001b[38;2;114;156;31m━━━━━━━━━━━━━━━━━━━━━━━━━━━━━━━━━━━━━━━━\u001b[0m \u001b[32m34.9/34.9 MB\u001b[0m \u001b[31m25.3 MB/s\u001b[0m eta \u001b[36m0:00:00\u001b[0mm eta \u001b[36m0:00:01\u001b[0m[36m0:00:01\u001b[0m\n",
      "\u001b[?25hRequirement already satisfied: numpy>=1.16.6 in /home/silas/.local/lib/python3.10/site-packages (from pyarrow) (1.24.3)\n",
      "Installing collected packages: pyarrow\n",
      "Successfully installed pyarrow-11.0.0\n"
     ]
    }
   ],
   "source": [
    "!pip install validate-docbr\n",
    "!pip install pyarrow\n"
   ]
  },
  {
   "cell_type": "code",
   "execution_count": 52,
   "id": "4a0ae43d",
   "metadata": {},
   "outputs": [],
   "source": [
    "import pyarrow.parquet as pq\n",
    "import pandas as pd\n",
    "from validate_docbr import CPF, CNPJ\n",
    "import re"
   ]
  },
  {
   "cell_type": "markdown",
   "id": "63b54734",
   "metadata": {},
   "source": [
    "**Dados descritivos**"
   ]
  },
  {
   "cell_type": "code",
   "execution_count": 36,
   "id": "d946a284",
   "metadata": {},
   "outputs": [],
   "source": [
    "base_cadastral = pd.read_csv(\"dados_cadastrais_fake.csv\", sep = ';')"
   ]
  },
  {
   "cell_type": "code",
   "execution_count": 3,
   "id": "8a3881c9",
   "metadata": {},
   "outputs": [
    {
     "data": {
      "text/html": [
       "<div>\n",
       "<style scoped>\n",
       "    .dataframe tbody tr th:only-of-type {\n",
       "        vertical-align: middle;\n",
       "    }\n",
       "\n",
       "    .dataframe tbody tr th {\n",
       "        vertical-align: top;\n",
       "    }\n",
       "\n",
       "    .dataframe thead th {\n",
       "        text-align: right;\n",
       "    }\n",
       "</style>\n",
       "<table border=\"1\" class=\"dataframe\">\n",
       "  <thead>\n",
       "    <tr style=\"text-align: right;\">\n",
       "      <th></th>\n",
       "      <th>nomes</th>\n",
       "      <th>idade</th>\n",
       "      <th>cidade</th>\n",
       "      <th>estado</th>\n",
       "      <th>cpf</th>\n",
       "      <th>cnpj</th>\n",
       "    </tr>\n",
       "  </thead>\n",
       "  <tbody>\n",
       "    <tr>\n",
       "      <th>0</th>\n",
       "      <td>Dennis Daniels</td>\n",
       "      <td>31</td>\n",
       "      <td>ACRELÂNDIA</td>\n",
       "      <td>AC</td>\n",
       "      <td>97566536800</td>\n",
       "      <td>06589184909526</td>\n",
       "    </tr>\n",
       "    <tr>\n",
       "      <th>1</th>\n",
       "      <td>Leah Becker</td>\n",
       "      <td>42</td>\n",
       "      <td>ÁGUA BRANCA</td>\n",
       "      <td>AL</td>\n",
       "      <td>425.263.807-07</td>\n",
       "      <td>25.673.336/2350-20</td>\n",
       "    </tr>\n",
       "    <tr>\n",
       "      <th>2</th>\n",
       "      <td>Sally Ford</td>\n",
       "      <td>18</td>\n",
       "      <td>ALVARÃES</td>\n",
       "      <td>AM</td>\n",
       "      <td>34647754103</td>\n",
       "      <td>26543101702989</td>\n",
       "    </tr>\n",
       "    <tr>\n",
       "      <th>3</th>\n",
       "      <td>Colleen Duncan</td>\n",
       "      <td>21</td>\n",
       "      <td>SERRA DO NAVIO</td>\n",
       "      <td>AP</td>\n",
       "      <td>252.531.560-03</td>\n",
       "      <td>19.062.080/5100-98</td>\n",
       "    </tr>\n",
       "    <tr>\n",
       "      <th>4</th>\n",
       "      <td>Jeff Stephenson</td>\n",
       "      <td>73</td>\n",
       "      <td>ABAÍRA</td>\n",
       "      <td>BA</td>\n",
       "      <td>49668886542</td>\n",
       "      <td>97794530015384</td>\n",
       "    </tr>\n",
       "  </tbody>\n",
       "</table>\n",
       "</div>"
      ],
      "text/plain": [
       "             nomes  idade          cidade estado             cpf  \\\n",
       "0   Dennis Daniels     31      ACRELÂNDIA     AC     97566536800   \n",
       "1      Leah Becker     42     ÁGUA BRANCA     AL  425.263.807-07   \n",
       "2       Sally Ford     18        ALVARÃES     AM     34647754103   \n",
       "3   Colleen Duncan     21  SERRA DO NAVIO     AP  252.531.560-03   \n",
       "4  Jeff Stephenson     73          ABAÍRA     BA     49668886542   \n",
       "\n",
       "                 cnpj  \n",
       "0      06589184909526  \n",
       "1  25.673.336/2350-20  \n",
       "2      26543101702989  \n",
       "3  19.062.080/5100-98  \n",
       "4      97794530015384  "
      ]
     },
     "execution_count": 3,
     "metadata": {},
     "output_type": "execute_result"
    }
   ],
   "source": [
    "base_cadastral.head()"
   ]
  },
  {
   "cell_type": "code",
   "execution_count": 4,
   "id": "e84b65e4",
   "metadata": {},
   "outputs": [
    {
     "name": "stdout",
     "output_type": "stream",
     "text": [
      "<class 'pandas.core.frame.DataFrame'>\n",
      "RangeIndex: 10000 entries, 0 to 9999\n",
      "Data columns (total 6 columns):\n",
      " #   Column  Non-Null Count  Dtype \n",
      "---  ------  --------------  ----- \n",
      " 0   nomes   10000 non-null  object\n",
      " 1   idade   10000 non-null  int64 \n",
      " 2   cidade  10000 non-null  object\n",
      " 3   estado  10000 non-null  object\n",
      " 4   cpf     10000 non-null  object\n",
      " 5   cnpj    10000 non-null  object\n",
      "dtypes: int64(1), object(5)\n",
      "memory usage: 468.9+ KB\n"
     ]
    }
   ],
   "source": [
    "base_cadastral.info()"
   ]
  },
  {
   "cell_type": "markdown",
   "id": "27d6cb14",
   "metadata": {},
   "source": [
    "**Normalizando os dados**"
   ]
  },
  {
   "cell_type": "code",
   "execution_count": 5,
   "id": "180c2908",
   "metadata": {},
   "outputs": [],
   "source": [
    "#Função que normaliza a documentação\n",
    "def normaliza_documento(coluna):\n",
    "    \"\"\"\n",
    "    Remove caracteres indesejáveis dos campos selecionados    \n",
    "    \n",
    "    :param coluna: str. Nome da coluna a ser aplicada a lógica de remoção\n",
    "        \n",
    "    \"\"\"\n",
    "    \n",
    "    \n",
    "    dado_modificado = coluna.str.replace('[ .\\-/]', '', regex=True)\n",
    "    \n",
    "    return dado_modificado\n",
    "    "
   ]
  },
  {
   "cell_type": "code",
   "execution_count": 37,
   "id": "66bc7e85",
   "metadata": {},
   "outputs": [],
   "source": [
    "base_cadastral[['cpf', 'cnpj']] = base_cadastral[['cpf', 'cnpj']].apply(normaliza_documento)"
   ]
  },
  {
   "cell_type": "code",
   "execution_count": 38,
   "id": "83a2d140",
   "metadata": {},
   "outputs": [],
   "source": [
    "base_cadastral[['estado','cpf', 'cnpj']] = base_cadastral[['estado','cpf', 'cnpj']].astype('string')\n"
   ]
  },
  {
   "cell_type": "code",
   "execution_count": 8,
   "id": "bd86c5bc",
   "metadata": {},
   "outputs": [],
   "source": [
    "#chamando as funções importadas\n",
    "check_cpf = CPF()\n",
    "\n",
    "check_cnpj = CNPJ()"
   ]
  },
  {
   "cell_type": "markdown",
   "id": "3a73c151",
   "metadata": {},
   "source": [
    "**Regras Validação**"
   ]
  },
  {
   "cell_type": "code",
   "execution_count": 9,
   "id": "31802340",
   "metadata": {},
   "outputs": [],
   "source": [
    "def valida_documento(documento):\n",
    "    \"\"\"\n",
    "    Valida se a string de parâmetro corresponde ao padrão de documentação brasileiro   \n",
    "    \n",
    "    :param documento: str. Numero documento analisado \n",
    "        \n",
    "    \"\"\"\n",
    "    \n",
    "    documento = str(documento)\n",
    "    \n",
    "    if len(documento) == 11:\n",
    "        if check_cpf.validate(documento) is True:\n",
    "            status = 'Válido'\n",
    "             \n",
    "        else:\n",
    "            status = 'Inválido'\n",
    "                    \n",
    "    \n",
    "    elif len(documento) == 14:\n",
    "        if check_cnpj.validate(documento) is True:\n",
    "            status = 'Válido'\n",
    "            \n",
    "        else:\n",
    "            status = 'Inválido'\n",
    "    else:\n",
    "        status = 'Inválido'\n",
    "            \n",
    "    return status\n",
    "    "
   ]
  },
  {
   "cell_type": "code",
   "execution_count": 39,
   "id": "8dfbe940",
   "metadata": {},
   "outputs": [],
   "source": [
    "base_cadastral['cpf_status'] = base_cadastral['cpf'].apply(valida_documento)\n",
    "base_cadastral['cnpj_status'] = base_cadastral['cnpj'].apply(valida_documento)"
   ]
  },
  {
   "cell_type": "code",
   "execution_count": 22,
   "id": "b86f42b9",
   "metadata": {},
   "outputs": [
    {
     "data": {
      "text/html": [
       "<div>\n",
       "<style scoped>\n",
       "    .dataframe tbody tr th:only-of-type {\n",
       "        vertical-align: middle;\n",
       "    }\n",
       "\n",
       "    .dataframe tbody tr th {\n",
       "        vertical-align: top;\n",
       "    }\n",
       "\n",
       "    .dataframe thead th {\n",
       "        text-align: right;\n",
       "    }\n",
       "</style>\n",
       "<table border=\"1\" class=\"dataframe\">\n",
       "  <thead>\n",
       "    <tr style=\"text-align: right;\">\n",
       "      <th></th>\n",
       "      <th>nomes</th>\n",
       "      <th>idade</th>\n",
       "      <th>cidade</th>\n",
       "      <th>estado</th>\n",
       "      <th>cpf</th>\n",
       "      <th>cnpj</th>\n",
       "      <th>cpf_status</th>\n",
       "      <th>cnpj_status</th>\n",
       "    </tr>\n",
       "  </thead>\n",
       "  <tbody>\n",
       "    <tr>\n",
       "      <th>0</th>\n",
       "      <td>Dennis Daniels</td>\n",
       "      <td>31</td>\n",
       "      <td>ACRELÂNDIA</td>\n",
       "      <td>AC</td>\n",
       "      <td>97566536800</td>\n",
       "      <td>06589184909526</td>\n",
       "      <td>Válido</td>\n",
       "      <td>Válido</td>\n",
       "    </tr>\n",
       "    <tr>\n",
       "      <th>1</th>\n",
       "      <td>Leah Becker</td>\n",
       "      <td>42</td>\n",
       "      <td>ÁGUA BRANCA</td>\n",
       "      <td>AL</td>\n",
       "      <td>42526380707</td>\n",
       "      <td>25673336235020</td>\n",
       "      <td>Válido</td>\n",
       "      <td>Válido</td>\n",
       "    </tr>\n",
       "    <tr>\n",
       "      <th>2</th>\n",
       "      <td>Sally Ford</td>\n",
       "      <td>18</td>\n",
       "      <td>ALVARÃES</td>\n",
       "      <td>AM</td>\n",
       "      <td>34647754103</td>\n",
       "      <td>26543101702989</td>\n",
       "      <td>Válido</td>\n",
       "      <td>Válido</td>\n",
       "    </tr>\n",
       "    <tr>\n",
       "      <th>3</th>\n",
       "      <td>Colleen Duncan</td>\n",
       "      <td>21</td>\n",
       "      <td>SERRA DO NAVIO</td>\n",
       "      <td>AP</td>\n",
       "      <td>25253156003</td>\n",
       "      <td>19062080510098</td>\n",
       "      <td>Válido</td>\n",
       "      <td>Válido</td>\n",
       "    </tr>\n",
       "    <tr>\n",
       "      <th>4</th>\n",
       "      <td>Jeff Stephenson</td>\n",
       "      <td>73</td>\n",
       "      <td>ABAÍRA</td>\n",
       "      <td>BA</td>\n",
       "      <td>49668886542</td>\n",
       "      <td>97794530015384</td>\n",
       "      <td>Válido</td>\n",
       "      <td>Válido</td>\n",
       "    </tr>\n",
       "  </tbody>\n",
       "</table>\n",
       "</div>"
      ],
      "text/plain": [
       "             nomes  idade          cidade estado          cpf            cnpj  \\\n",
       "0   Dennis Daniels     31      ACRELÂNDIA     AC  97566536800  06589184909526   \n",
       "1      Leah Becker     42     ÁGUA BRANCA     AL  42526380707  25673336235020   \n",
       "2       Sally Ford     18        ALVARÃES     AM  34647754103  26543101702989   \n",
       "3   Colleen Duncan     21  SERRA DO NAVIO     AP  25253156003  19062080510098   \n",
       "4  Jeff Stephenson     73          ABAÍRA     BA  49668886542  97794530015384   \n",
       "\n",
       "  cpf_status cnpj_status  \n",
       "0     Válido      Válido  \n",
       "1     Válido      Válido  \n",
       "2     Válido      Válido  \n",
       "3     Válido      Válido  \n",
       "4     Válido      Válido  "
      ]
     },
     "execution_count": 22,
     "metadata": {},
     "output_type": "execute_result"
    }
   ],
   "source": [
    "base_cadastral.head()\n"
   ]
  },
  {
   "cell_type": "markdown",
   "id": "d1362426",
   "metadata": {},
   "source": [
    "**Quantos clientes temos na base?**"
   ]
  },
  {
   "cell_type": "code",
   "execution_count": 12,
   "id": "89bb2927",
   "metadata": {},
   "outputs": [
    {
     "data": {
      "text/plain": [
       "10000"
      ]
     },
     "execution_count": 12,
     "metadata": {},
     "output_type": "execute_result"
    }
   ],
   "source": [
    "base_cadastral['nomes'].count()"
   ]
  },
  {
   "cell_type": "markdown",
   "id": "2dfff56a",
   "metadata": {},
   "source": [
    "**Qual a média de idade do cliente**"
   ]
  },
  {
   "cell_type": "code",
   "execution_count": 13,
   "id": "42797b5a",
   "metadata": {},
   "outputs": [
    {
     "data": {
      "text/plain": [
       "53.7831"
      ]
     },
     "execution_count": 13,
     "metadata": {},
     "output_type": "execute_result"
    }
   ],
   "source": [
    "base_cadastral['idade'].mean()"
   ]
  },
  {
   "cell_type": "markdown",
   "id": "f01e66dc",
   "metadata": {},
   "source": [
    "**Quantos clientes nessa base pertencem a cada estado?**"
   ]
  },
  {
   "cell_type": "code",
   "execution_count": 44,
   "id": "c3c7b80e",
   "metadata": {},
   "outputs": [
    {
     "data": {
      "text/html": [
       "<div>\n",
       "<style scoped>\n",
       "    .dataframe tbody tr th:only-of-type {\n",
       "        vertical-align: middle;\n",
       "    }\n",
       "\n",
       "    .dataframe tbody tr th {\n",
       "        vertical-align: top;\n",
       "    }\n",
       "\n",
       "    .dataframe thead th {\n",
       "        text-align: right;\n",
       "    }\n",
       "</style>\n",
       "<table border=\"1\" class=\"dataframe\">\n",
       "  <thead>\n",
       "    <tr style=\"text-align: right;\">\n",
       "      <th></th>\n",
       "      <th>nomes</th>\n",
       "    </tr>\n",
       "    <tr>\n",
       "      <th>estado</th>\n",
       "      <th></th>\n",
       "    </tr>\n",
       "  </thead>\n",
       "  <tbody>\n",
       "    <tr>\n",
       "      <th>AC</th>\n",
       "      <td>371</td>\n",
       "    </tr>\n",
       "    <tr>\n",
       "      <th>AL</th>\n",
       "      <td>371</td>\n",
       "    </tr>\n",
       "    <tr>\n",
       "      <th>AM</th>\n",
       "      <td>371</td>\n",
       "    </tr>\n",
       "    <tr>\n",
       "      <th>AP</th>\n",
       "      <td>371</td>\n",
       "    </tr>\n",
       "    <tr>\n",
       "      <th>BA</th>\n",
       "      <td>371</td>\n",
       "    </tr>\n",
       "    <tr>\n",
       "      <th>CE</th>\n",
       "      <td>371</td>\n",
       "    </tr>\n",
       "    <tr>\n",
       "      <th>DF</th>\n",
       "      <td>371</td>\n",
       "    </tr>\n",
       "    <tr>\n",
       "      <th>ES</th>\n",
       "      <td>371</td>\n",
       "    </tr>\n",
       "    <tr>\n",
       "      <th>GO</th>\n",
       "      <td>371</td>\n",
       "    </tr>\n",
       "    <tr>\n",
       "      <th>MA</th>\n",
       "      <td>371</td>\n",
       "    </tr>\n",
       "    <tr>\n",
       "      <th>MG</th>\n",
       "      <td>353</td>\n",
       "    </tr>\n",
       "    <tr>\n",
       "      <th>MGs</th>\n",
       "      <td>17</td>\n",
       "    </tr>\n",
       "    <tr>\n",
       "      <th>MS</th>\n",
       "      <td>370</td>\n",
       "    </tr>\n",
       "    <tr>\n",
       "      <th>MT</th>\n",
       "      <td>370</td>\n",
       "    </tr>\n",
       "    <tr>\n",
       "      <th>PA</th>\n",
       "      <td>370</td>\n",
       "    </tr>\n",
       "    <tr>\n",
       "      <th>PB</th>\n",
       "      <td>370</td>\n",
       "    </tr>\n",
       "    <tr>\n",
       "      <th>PE</th>\n",
       "      <td>370</td>\n",
       "    </tr>\n",
       "    <tr>\n",
       "      <th>PI</th>\n",
       "      <td>370</td>\n",
       "    </tr>\n",
       "    <tr>\n",
       "      <th>PR</th>\n",
       "      <td>370</td>\n",
       "    </tr>\n",
       "    <tr>\n",
       "      <th>RJ</th>\n",
       "      <td>355</td>\n",
       "    </tr>\n",
       "    <tr>\n",
       "      <th>RJ</th>\n",
       "      <td>15</td>\n",
       "    </tr>\n",
       "    <tr>\n",
       "      <th>RN</th>\n",
       "      <td>370</td>\n",
       "    </tr>\n",
       "    <tr>\n",
       "      <th>RO</th>\n",
       "      <td>370</td>\n",
       "    </tr>\n",
       "    <tr>\n",
       "      <th>RR</th>\n",
       "      <td>370</td>\n",
       "    </tr>\n",
       "    <tr>\n",
       "      <th>RS</th>\n",
       "      <td>370</td>\n",
       "    </tr>\n",
       "    <tr>\n",
       "      <th>SC</th>\n",
       "      <td>370</td>\n",
       "    </tr>\n",
       "    <tr>\n",
       "      <th>SE</th>\n",
       "      <td>370</td>\n",
       "    </tr>\n",
       "    <tr>\n",
       "      <th>SP</th>\n",
       "      <td>370</td>\n",
       "    </tr>\n",
       "    <tr>\n",
       "      <th>TO</th>\n",
       "      <td>370</td>\n",
       "    </tr>\n",
       "  </tbody>\n",
       "</table>\n",
       "</div>"
      ],
      "text/plain": [
       "        nomes\n",
       "estado       \n",
       "AC        371\n",
       "AL        371\n",
       "AM        371\n",
       "AP        371\n",
       "BA        371\n",
       "CE        371\n",
       "DF        371\n",
       "ES        371\n",
       "GO        371\n",
       "MA        371\n",
       "MG        353\n",
       "MGs        17\n",
       "MS        370\n",
       "MT        370\n",
       "PA        370\n",
       "PB        370\n",
       "PE        370\n",
       "PI        370\n",
       "PR        370\n",
       "RJ        355\n",
       "RJ         15\n",
       "RN        370\n",
       "RO        370\n",
       "RR        370\n",
       "RS        370\n",
       "SC        370\n",
       "SE        370\n",
       "SP        370\n",
       "TO        370"
      ]
     },
     "execution_count": 44,
     "metadata": {},
     "output_type": "execute_result"
    }
   ],
   "source": [
    "base_cadastral.groupby('estado')[['nomes']].count()"
   ]
  },
  {
   "cell_type": "code",
   "execution_count": 40,
   "id": "a395b6f7",
   "metadata": {},
   "outputs": [],
   "source": [
    "#csv continha espaços entre nomes\n",
    "base_cadastral['estado']  = base_cadastral['estado'].replace(\n",
    "{\"rio de  janeiro\": \"RJ\", \"sao  paulo\": \"SP\",\"são  paulo\": \"SP\"}, regex=True)"
   ]
  },
  {
   "cell_type": "code",
   "execution_count": 41,
   "id": "aa6ba441",
   "metadata": {},
   "outputs": [],
   "source": [
    "base_cadastral['estado'] = base_cadastral['estado'].replace(\n",
    "    {'MINAS GERAI': 'MG','MINAS GERAIs': 'MG', 'MGs': 'MG','distrito federal': 'DF'}, regex=True)"
   ]
  },
  {
   "cell_type": "code",
   "execution_count": 42,
   "id": "6d7ef6d7",
   "metadata": {},
   "outputs": [],
   "source": [
    "base_cadastral['estado']  = base_cadastral['estado'].replace(' ','')"
   ]
  },
  {
   "cell_type": "code",
   "execution_count": 43,
   "id": "0006f31b",
   "metadata": {},
   "outputs": [
    {
     "data": {
      "text/html": [
       "<div>\n",
       "<style scoped>\n",
       "    .dataframe tbody tr th:only-of-type {\n",
       "        vertical-align: middle;\n",
       "    }\n",
       "\n",
       "    .dataframe tbody tr th {\n",
       "        vertical-align: top;\n",
       "    }\n",
       "\n",
       "    .dataframe thead th {\n",
       "        text-align: right;\n",
       "    }\n",
       "</style>\n",
       "<table border=\"1\" class=\"dataframe\">\n",
       "  <thead>\n",
       "    <tr style=\"text-align: right;\">\n",
       "      <th></th>\n",
       "      <th>nomes</th>\n",
       "    </tr>\n",
       "    <tr>\n",
       "      <th>estado</th>\n",
       "      <th></th>\n",
       "    </tr>\n",
       "  </thead>\n",
       "  <tbody>\n",
       "    <tr>\n",
       "      <th>AC</th>\n",
       "      <td>371</td>\n",
       "    </tr>\n",
       "    <tr>\n",
       "      <th>AL</th>\n",
       "      <td>371</td>\n",
       "    </tr>\n",
       "    <tr>\n",
       "      <th>AM</th>\n",
       "      <td>371</td>\n",
       "    </tr>\n",
       "    <tr>\n",
       "      <th>AP</th>\n",
       "      <td>371</td>\n",
       "    </tr>\n",
       "    <tr>\n",
       "      <th>BA</th>\n",
       "      <td>371</td>\n",
       "    </tr>\n",
       "    <tr>\n",
       "      <th>CE</th>\n",
       "      <td>371</td>\n",
       "    </tr>\n",
       "    <tr>\n",
       "      <th>DF</th>\n",
       "      <td>371</td>\n",
       "    </tr>\n",
       "    <tr>\n",
       "      <th>ES</th>\n",
       "      <td>371</td>\n",
       "    </tr>\n",
       "    <tr>\n",
       "      <th>GO</th>\n",
       "      <td>371</td>\n",
       "    </tr>\n",
       "    <tr>\n",
       "      <th>MA</th>\n",
       "      <td>371</td>\n",
       "    </tr>\n",
       "    <tr>\n",
       "      <th>MG</th>\n",
       "      <td>353</td>\n",
       "    </tr>\n",
       "    <tr>\n",
       "      <th>MGs</th>\n",
       "      <td>17</td>\n",
       "    </tr>\n",
       "    <tr>\n",
       "      <th>MS</th>\n",
       "      <td>370</td>\n",
       "    </tr>\n",
       "    <tr>\n",
       "      <th>MT</th>\n",
       "      <td>370</td>\n",
       "    </tr>\n",
       "    <tr>\n",
       "      <th>PA</th>\n",
       "      <td>370</td>\n",
       "    </tr>\n",
       "    <tr>\n",
       "      <th>PB</th>\n",
       "      <td>370</td>\n",
       "    </tr>\n",
       "    <tr>\n",
       "      <th>PE</th>\n",
       "      <td>370</td>\n",
       "    </tr>\n",
       "    <tr>\n",
       "      <th>PI</th>\n",
       "      <td>370</td>\n",
       "    </tr>\n",
       "    <tr>\n",
       "      <th>PR</th>\n",
       "      <td>370</td>\n",
       "    </tr>\n",
       "    <tr>\n",
       "      <th>RJ</th>\n",
       "      <td>355</td>\n",
       "    </tr>\n",
       "    <tr>\n",
       "      <th>RJ</th>\n",
       "      <td>15</td>\n",
       "    </tr>\n",
       "    <tr>\n",
       "      <th>RN</th>\n",
       "      <td>370</td>\n",
       "    </tr>\n",
       "    <tr>\n",
       "      <th>RO</th>\n",
       "      <td>370</td>\n",
       "    </tr>\n",
       "    <tr>\n",
       "      <th>RR</th>\n",
       "      <td>370</td>\n",
       "    </tr>\n",
       "    <tr>\n",
       "      <th>RS</th>\n",
       "      <td>370</td>\n",
       "    </tr>\n",
       "    <tr>\n",
       "      <th>SC</th>\n",
       "      <td>370</td>\n",
       "    </tr>\n",
       "    <tr>\n",
       "      <th>SE</th>\n",
       "      <td>370</td>\n",
       "    </tr>\n",
       "    <tr>\n",
       "      <th>SP</th>\n",
       "      <td>370</td>\n",
       "    </tr>\n",
       "    <tr>\n",
       "      <th>TO</th>\n",
       "      <td>370</td>\n",
       "    </tr>\n",
       "  </tbody>\n",
       "</table>\n",
       "</div>"
      ],
      "text/plain": [
       "        nomes\n",
       "estado       \n",
       "AC        371\n",
       "AL        371\n",
       "AM        371\n",
       "AP        371\n",
       "BA        371\n",
       "CE        371\n",
       "DF        371\n",
       "ES        371\n",
       "GO        371\n",
       "MA        371\n",
       "MG        353\n",
       "MGs        17\n",
       "MS        370\n",
       "MT        370\n",
       "PA        370\n",
       "PB        370\n",
       "PE        370\n",
       "PI        370\n",
       "PR        370\n",
       "RJ        355\n",
       "RJ         15\n",
       "RN        370\n",
       "RO        370\n",
       "RR        370\n",
       "RS        370\n",
       "SC        370\n",
       "SE        370\n",
       "SP        370\n",
       "TO        370"
      ]
     },
     "execution_count": 43,
     "metadata": {},
     "output_type": "execute_result"
    }
   ],
   "source": [
    "base_cadastral.groupby('estado')[['nomes']].count()"
   ]
  },
  {
   "cell_type": "markdown",
   "id": "48a568ff",
   "metadata": {},
   "source": [
    "**Quantos CPFs/CNPJs válidos e inválidos foram encontrados??**"
   ]
  },
  {
   "cell_type": "code",
   "execution_count": 45,
   "id": "5a30bfd9",
   "metadata": {},
   "outputs": [
    {
     "data": {
      "text/html": [
       "<div>\n",
       "<style scoped>\n",
       "    .dataframe tbody tr th:only-of-type {\n",
       "        vertical-align: middle;\n",
       "    }\n",
       "\n",
       "    .dataframe tbody tr th {\n",
       "        vertical-align: top;\n",
       "    }\n",
       "\n",
       "    .dataframe thead th {\n",
       "        text-align: right;\n",
       "    }\n",
       "</style>\n",
       "<table border=\"1\" class=\"dataframe\">\n",
       "  <thead>\n",
       "    <tr style=\"text-align: right;\">\n",
       "      <th></th>\n",
       "      <th>nomes</th>\n",
       "    </tr>\n",
       "    <tr>\n",
       "      <th>cpf_status</th>\n",
       "      <th></th>\n",
       "    </tr>\n",
       "  </thead>\n",
       "  <tbody>\n",
       "    <tr>\n",
       "      <th>Válido</th>\n",
       "      <td>10000</td>\n",
       "    </tr>\n",
       "  </tbody>\n",
       "</table>\n",
       "</div>"
      ],
      "text/plain": [
       "            nomes\n",
       "cpf_status       \n",
       "Válido      10000"
      ]
     },
     "execution_count": 45,
     "metadata": {},
     "output_type": "execute_result"
    }
   ],
   "source": [
    "base_cadastral.groupby('cpf_status',)[['nomes']].count()"
   ]
  },
  {
   "cell_type": "code",
   "execution_count": 46,
   "id": "4a735768",
   "metadata": {},
   "outputs": [
    {
     "data": {
      "text/html": [
       "<div>\n",
       "<style scoped>\n",
       "    .dataframe tbody tr th:only-of-type {\n",
       "        vertical-align: middle;\n",
       "    }\n",
       "\n",
       "    .dataframe tbody tr th {\n",
       "        vertical-align: top;\n",
       "    }\n",
       "\n",
       "    .dataframe thead th {\n",
       "        text-align: right;\n",
       "    }\n",
       "</style>\n",
       "<table border=\"1\" class=\"dataframe\">\n",
       "  <thead>\n",
       "    <tr style=\"text-align: right;\">\n",
       "      <th></th>\n",
       "      <th>nomes</th>\n",
       "    </tr>\n",
       "    <tr>\n",
       "      <th>cnpj_status</th>\n",
       "      <th></th>\n",
       "    </tr>\n",
       "  </thead>\n",
       "  <tbody>\n",
       "    <tr>\n",
       "      <th>Válido</th>\n",
       "      <td>10000</td>\n",
       "    </tr>\n",
       "  </tbody>\n",
       "</table>\n",
       "</div>"
      ],
      "text/plain": [
       "             nomes\n",
       "cnpj_status       \n",
       "Válido       10000"
      ]
     },
     "execution_count": 46,
     "metadata": {},
     "output_type": "execute_result"
    }
   ],
   "source": [
    "base_cadastral.groupby('cnpj_status',)[['nomes']].count()"
   ]
  },
  {
   "cell_type": "markdown",
   "id": "b29ea4eb",
   "metadata": {},
   "source": [
    "**Escrita de saída**"
   ]
  },
  {
   "cell_type": "code",
   "execution_count": 48,
   "id": "c3dc548d",
   "metadata": {},
   "outputs": [],
   "source": [
    "base_cadastral.to_csv('base_cadastral_limpa.csv',index=False)"
   ]
  },
  {
   "cell_type": "code",
   "execution_count": 53,
   "id": "9b3deebf",
   "metadata": {},
   "outputs": [],
   "source": [
    "base_cadastral.to_parquet('base_cadastral_limpa.parquet.gzip',compression='gzip')"
   ]
  },
  {
   "cell_type": "code",
   "execution_count": null,
   "id": "72dda684",
   "metadata": {},
   "outputs": [],
   "source": []
  }
 ],
 "metadata": {
  "kernelspec": {
   "display_name": "Python 3 (ipykernel)",
   "language": "python",
   "name": "python3"
  },
  "language_info": {
   "codemirror_mode": {
    "name": "ipython",
    "version": 3
   },
   "file_extension": ".py",
   "mimetype": "text/x-python",
   "name": "python",
   "nbconvert_exporter": "python",
   "pygments_lexer": "ipython3",
   "version": "3.10.6"
  }
 },
 "nbformat": 4,
 "nbformat_minor": 5
}
